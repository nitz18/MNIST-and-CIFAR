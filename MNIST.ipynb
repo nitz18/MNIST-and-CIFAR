{
  "nbformat": 4,
  "nbformat_minor": 0,
  "metadata": {
    "colab": {
      "name": " DL HW 5 q2.ipynb",
      "provenance": [],
      "collapsed_sections": []
    },
    "kernelspec": {
      "name": "python3",
      "display_name": "Python 3"
    },
    "language_info": {
      "name": "python"
    },
    "accelerator": "GPU"
  },
  "cells": [
    {
      "cell_type": "markdown",
      "source": [
        "### **Q.2**\n",
        "The differnce between the two histograms is that the number of weight parameters have been reduced. This is due to the dropout layer. Some number of layer outputs are randomly ignored or “dropped out.” This has the effect of making the layer look-like and be treated-like a layer with a different number of nodes and connectivity to the prior layer. In effect, each update to a layer during training is performed with a different “view” of the configured layer."
      ],
      "metadata": {
        "id": "mVNWAEwpJHiC"
      }
    },
    {
      "cell_type": "code",
      "source": [
        "import torch.nn as nn\n",
        "import torch.nn.functional as F\n",
        "import torch.optim as optim"
      ],
      "metadata": {
        "id": "qWYKs4-7VnhJ"
      },
      "execution_count": null,
      "outputs": []
    },
    {
      "cell_type": "code",
      "execution_count": null,
      "metadata": {
        "id": "uqmPRv1RTalu"
      },
      "outputs": [],
      "source": [
        "import torch\n",
        "from torchvision import datasets, transforms\n",
        "import helper\n",
        "\n",
        "transform = transforms.Compose([transforms.ToTensor(),\n",
        "                                transforms.Normalize(0.5, 0.5)])\n",
        "trainset = datasets.FashionMNIST('~/.pytorch/F_MNIST_data/', download=True, train=True, transform=transform)\n",
        "trainloader = torch.utils.data.DataLoader(trainset, batch_size=64, shuffle=True)\n",
        "\n",
        "testset = datasets.FashionMNIST('~/.pytorch/F_MNIST_data/', download=True, train=False, transform=transform)\n",
        "testloader = torch.utils.data.DataLoader(testset, batch_size=64, shuffle=True)"
      ]
    },
    {
      "cell_type": "code",
      "source": [
        "class Classifier(nn.Module):\n",
        "    def __init__(self):\n",
        "        super().__init__()\n",
        "        self.fc1 = nn.Linear(784, 128)\n",
        "        self.fc2 = nn.Linear(128, 10)\n",
        "        \n",
        "    def forward(self, x):\n",
        "        x = x.view(-1,784)\n",
        "        x = F.relu(self.fc1(x))\n",
        "        x = F.log_softmax(self.fc2(x), dim=1)\n",
        "        \n",
        "        return x"
      ],
      "metadata": {
        "id": "TVBohYN7cp6s"
      },
      "execution_count": null,
      "outputs": []
    },
    {
      "cell_type": "code",
      "source": [
        "model = Classifier()\n",
        "filter = model.conv1.weight.data.numpy()\n",
        "filter = (1/(2*3.69201088))*filter + 0.5\n",
        "criterion = nn.NLLLoss()\n",
        "optimizer = optim.Adam(model.parameters(), lr=0.003)"
      ],
      "metadata": {
        "id": "aOLI4NZHcIyF"
      },
      "execution_count": null,
      "outputs": []
    },
    {
      "cell_type": "code",
      "source": [
        "epochs = 40\n",
        "acc_values=[]\n",
        "total_step=len(trainloader)\n",
        "Loss_f1=[]\n",
        "\n",
        "for e in range(epochs):\n",
        "  correct=0\n",
        "  running_loss = 0\n",
        "  for images, labels in trainloader:\n",
        "    log_ps = model(images)\n",
        "    loss = criterion(log_ps, labels)\n",
        "    \n",
        "    optimizer.zero_grad()\n",
        "    loss.backward()\n",
        "    optimizer.step()\n",
        "    \n",
        "    running_loss += loss.item()\n",
        "\n",
        "    predictions = torch.max(log_ps,1)[1]\n",
        "    correct+=(predictions==labels).sum().cpu().numpy()\n",
        "    acc = 100*correct/len(trainloader.dataset)\n",
        "    acc_values.append(acc)\n",
        "\n",
        "  print('Epoch {}  | Loss : {:.4f}'.format(e+1, running_loss / total_step),'|', 'Accuracy: {:.4f}'.format(acc))       \n",
        "  print('----------------------------------------------------')\n",
        "  Loss_f1.append(running_loss / total_step)\n",
        "\n",
        "print('Finished Training')"
      ],
      "metadata": {
        "colab": {
          "base_uri": "https://localhost:8080/"
        },
        "id": "EMGSQEdJcV1W",
        "outputId": "514e3e67-4a24-4835-a8ac-e161b5e84604"
      },
      "execution_count": null,
      "outputs": [
        {
          "output_type": "stream",
          "name": "stdout",
          "text": [
            "Epoch 1  | Loss : 0.2750 | Accuracy: 89.8300\n",
            "----------------------------------------------------\n",
            "Epoch 2  | Loss : 0.2684 | Accuracy: 90.0883\n",
            "----------------------------------------------------\n",
            "Epoch 3  | Loss : 0.2616 | Accuracy: 90.2033\n",
            "----------------------------------------------------\n",
            "Epoch 4  | Loss : 0.2553 | Accuracy: 90.4667\n",
            "----------------------------------------------------\n",
            "Epoch 5  | Loss : 0.2525 | Accuracy: 90.7483\n",
            "----------------------------------------------------\n",
            "Epoch 6  | Loss : 0.2481 | Accuracy: 90.6700\n",
            "----------------------------------------------------\n",
            "Epoch 7  | Loss : 0.2437 | Accuracy: 90.9100\n",
            "----------------------------------------------------\n",
            "Epoch 8  | Loss : 0.2411 | Accuracy: 90.9950\n",
            "----------------------------------------------------\n",
            "Epoch 9  | Loss : 0.2335 | Accuracy: 91.2383\n",
            "----------------------------------------------------\n",
            "Epoch 10  | Loss : 0.2295 | Accuracy: 91.3067\n",
            "----------------------------------------------------\n",
            "Epoch 11  | Loss : 0.2266 | Accuracy: 91.5067\n",
            "----------------------------------------------------\n",
            "Epoch 12  | Loss : 0.2238 | Accuracy: 91.6033\n",
            "----------------------------------------------------\n",
            "Epoch 13  | Loss : 0.2187 | Accuracy: 91.8067\n",
            "----------------------------------------------------\n",
            "Epoch 14  | Loss : 0.2213 | Accuracy: 91.7900\n",
            "----------------------------------------------------\n",
            "Epoch 15  | Loss : 0.2110 | Accuracy: 92.0467\n",
            "----------------------------------------------------\n",
            "Epoch 16  | Loss : 0.2085 | Accuracy: 92.2433\n",
            "----------------------------------------------------\n",
            "Epoch 17  | Loss : 0.2106 | Accuracy: 92.0767\n",
            "----------------------------------------------------\n",
            "Epoch 18  | Loss : 0.2055 | Accuracy: 92.2350\n",
            "----------------------------------------------------\n",
            "Epoch 19  | Loss : 0.2013 | Accuracy: 92.4117\n",
            "----------------------------------------------------\n",
            "Epoch 20  | Loss : 0.2006 | Accuracy: 92.4483\n",
            "----------------------------------------------------\n",
            "Epoch 21  | Loss : 0.1979 | Accuracy: 92.5167\n",
            "----------------------------------------------------\n",
            "Epoch 22  | Loss : 0.1946 | Accuracy: 92.6683\n",
            "----------------------------------------------------\n",
            "Epoch 23  | Loss : 0.1932 | Accuracy: 92.8233\n",
            "----------------------------------------------------\n",
            "Epoch 24  | Loss : 0.1922 | Accuracy: 92.7617\n",
            "----------------------------------------------------\n",
            "Epoch 25  | Loss : 0.1856 | Accuracy: 92.9617\n",
            "----------------------------------------------------\n",
            "Epoch 26  | Loss : 0.1863 | Accuracy: 92.9817\n",
            "----------------------------------------------------\n",
            "Epoch 27  | Loss : 0.1830 | Accuracy: 93.0633\n",
            "----------------------------------------------------\n",
            "Epoch 28  | Loss : 0.1845 | Accuracy: 93.0733\n",
            "----------------------------------------------------\n",
            "Epoch 29  | Loss : 0.1791 | Accuracy: 93.2600\n",
            "----------------------------------------------------\n",
            "Epoch 30  | Loss : 0.1790 | Accuracy: 93.3533\n",
            "----------------------------------------------------\n",
            "Epoch 31  | Loss : 0.1745 | Accuracy: 93.4867\n",
            "----------------------------------------------------\n",
            "Epoch 32  | Loss : 0.1752 | Accuracy: 93.3650\n",
            "----------------------------------------------------\n",
            "Epoch 33  | Loss : 0.1704 | Accuracy: 93.5517\n",
            "----------------------------------------------------\n",
            "Epoch 34  | Loss : 0.1699 | Accuracy: 93.7167\n",
            "----------------------------------------------------\n",
            "Epoch 35  | Loss : 0.1699 | Accuracy: 93.6100\n",
            "----------------------------------------------------\n",
            "Epoch 36  | Loss : 0.1646 | Accuracy: 93.7300\n",
            "----------------------------------------------------\n",
            "Epoch 37  | Loss : 0.1658 | Accuracy: 93.8017\n",
            "----------------------------------------------------\n",
            "Epoch 38  | Loss : 0.1645 | Accuracy: 93.8500\n",
            "----------------------------------------------------\n",
            "Epoch 39  | Loss : 0.1627 | Accuracy: 93.9050\n",
            "----------------------------------------------------\n",
            "Epoch 40  | Loss : 0.1646 | Accuracy: 93.9650\n",
            "----------------------------------------------------\n",
            "Finished Training\n"
          ]
        }
      ]
    },
    {
      "cell_type": "code",
      "source": [
        "correct = 0\n",
        "total = 0\n",
        "with torch.no_grad():\n",
        "    for data in testloader:\n",
        "        images, labels = data\n",
        "        outputs = model(images)\n",
        "        _, predicted = torch.max(outputs.data, 1)\n",
        "        total += labels.size(0)\n",
        "        correct += (predicted == labels).sum().item()\n",
        "\n",
        "print('Accuracy of the network on the test images: %d %%' % (100 * correct / total))"
      ],
      "metadata": {
        "colab": {
          "base_uri": "https://localhost:8080/"
        },
        "id": "sZT1-KnHyFOa",
        "outputId": "a579fd4b-5ab9-42ac-e1ff-c4a59f8d459c"
      },
      "execution_count": null,
      "outputs": [
        {
          "output_type": "stream",
          "name": "stdout",
          "text": [
            "Accuracy of the network on the test images: 88 %\n"
          ]
        }
      ]
    },
    {
      "cell_type": "code",
      "source": [
        "import matplotlib.pyplot as plt\n",
        "weights_1 = model.fc1.weight.data.flatten()\n",
        "weights_2 = model.fc2.weight.data.flatten()\n",
        "plt.hist(weights_1)"
      ],
      "metadata": {
        "colab": {
          "base_uri": "https://localhost:8080/",
          "height": 350
        },
        "id": "qs9WCr2y1mV9",
        "outputId": "7ca8ae50-b9e2-4a07-9bc8-083a751a63d3"
      },
      "execution_count": null,
      "outputs": [
        {
          "output_type": "execute_result",
          "data": {
            "text/plain": [
              "(array([  3.,   4.,  16.,  33.,  79., 186., 763., 181.,  13.,   2.]),\n",
              " array([-2.0456579 , -1.7403152 , -1.4349725 , -1.1296299 , -0.82428724,\n",
              "        -0.51894456, -0.2136019 ,  0.09174076,  0.39708343,  0.7024261 ,\n",
              "         1.0077688 ], dtype=float32),\n",
              " <a list of 10 Patch objects>)"
            ]
          },
          "metadata": {},
          "execution_count": 15
        },
        {
          "output_type": "display_data",
          "data": {
            "text/plain": [
              "<Figure size 432x288 with 1 Axes>"
            ],
            "image/png": "[encoded data removed]"
          },
          "metadata": {
            "needs_background": "light"
          }
        }
      ]
    },
    {
      "cell_type": "code",
      "source": [
        "plt.hist(weights_2)"
      ],
      "metadata": {
        "colab": {
          "base_uri": "https://localhost:8080/",
          "height": 354
        },
        "id": "-cPFDz0W6vme",
        "outputId": "fd74ea34-de83-4491-8fcd-1e0bdc9e6fa4"
      },
      "execution_count": null,
      "outputs": [
        {
          "output_type": "execute_result",
          "data": {
            "text/plain": [
              "(array([  3.,   4.,  16.,  33.,  79., 186., 763., 181.,  13.,   2.]),\n",
              " array([-2.0456579 , -1.7403152 , -1.4349725 , -1.1296299 , -0.82428724,\n",
              "        -0.51894456, -0.2136019 ,  0.09174076,  0.39708343,  0.7024261 ,\n",
              "         1.0077688 ], dtype=float32),\n",
              " <a list of 10 Patch objects>)"
            ]
          },
          "metadata": {},
          "execution_count": 16
        },
        {
          "output_type": "display_data",
          "data": {
            "text/plain": [
              "<Figure size 432x288 with 1 Axes>"
            ],
            "image/png": "[encoded data removed]"
          },
          "metadata": {
            "needs_background": "light"
          }
        }
      ]
    },
    {
      "cell_type": "code",
      "source": [
        "class Classifier2(nn.Module):\n",
        "    def __init__(self):\n",
        "        super().__init__()\n",
        "        self.fc1 = nn.Linear(784, 48)\n",
        "        self.output = nn.Linear(48, 10)\n",
        "        self.dropout = nn.Dropout(0.2)\n",
        "        \n",
        "    def forward(self, x):\n",
        "        x = x.view(-1,784)\n",
        "        x = F.relu(self.fc1(x))\n",
        "        x = self.dropout(self.output(x))      \n",
        "\n",
        "        return x"
      ],
      "metadata": {
        "id": "t9jCCBB4qXy_"
      },
      "execution_count": null,
      "outputs": []
    },
    {
      "cell_type": "code",
      "source": [
        "model2 = Classifier2()\n",
        "criterion = nn.NLLLoss()\n",
        "optimizer = optim.Adam(model.parameters(), lr=0.003)"
      ],
      "metadata": {
        "id": "Hy97txOVtmqz"
      },
      "execution_count": null,
      "outputs": []
    },
    {
      "cell_type": "code",
      "source": [
        "criterion = nn.CrossEntropyLoss()\n",
        "optimizer = torch.optim.Adam(model2.parameters(), lr=0.0001, weight_decay=1e-4)\n",
        "scheduler = optim.lr_scheduler.ReduceLROnPlateau(optimizer, mode='max', patience=5, factor=0.1, verbose=True, cooldown=10)"
      ],
      "metadata": {
        "id": "HxfxePUCtdf3"
      },
      "execution_count": null,
      "outputs": []
    },
    {
      "cell_type": "code",
      "source": [
        "epochs = 40\n",
        "acc_values=[]\n",
        "\n",
        "for e in range(epochs):\n",
        "  correct=0\n",
        "  running_loss = 0\n",
        "  for images, labels in trainloader:\n",
        "    log_ps = model2(images)\n",
        "    loss = criterion(log_ps, labels)\n",
        "    \n",
        "    optimizer.zero_grad()\n",
        "    loss.backward()\n",
        "    optimizer.step()\n",
        "    \n",
        "    running_loss += loss.item()\n",
        "\n",
        "    predictions = torch.max(log_ps,1)[1]\n",
        "    correct+=(predictions==labels).sum().cpu().numpy()\n",
        "    acc = 100*correct/len(trainloader.dataset)\n",
        "    acc_values.append(acc)\n",
        "  print('Epoch {}  | Loss : {:.4f}'.format(e+1, running_loss / total_step),'|', 'Accuracy: {:.4f}'.format(acc))       \n",
        "  print('----------------------------------------------------')"
      ],
      "metadata": {
        "colab": {
          "base_uri": "https://localhost:8080/"
        },
        "id": "JOIFvrWYt_v9",
        "outputId": "fcc78eab-ab5f-4a20-ac0d-962e1ea4d3ef"
      },
      "execution_count": null,
      "outputs": [
        {
          "output_type": "stream",
          "name": "stdout",
          "text": [
            "Epoch 1  | Loss : 0.5061 | Accuracy: 78.7550\n",
            "----------------------------------------------------\n",
            "Epoch 2  | Loss : 0.5063 | Accuracy: 78.9167\n",
            "----------------------------------------------------\n",
            "Epoch 3  | Loss : 0.5071 | Accuracy: 78.8500\n",
            "----------------------------------------------------\n",
            "Epoch 4  | Loss : 0.5010 | Accuracy: 79.3350\n",
            "----------------------------------------------------\n",
            "Epoch 5  | Loss : 0.4996 | Accuracy: 79.1650\n",
            "----------------------------------------------------\n",
            "Epoch 6  | Loss : 0.4953 | Accuracy: 79.4533\n",
            "----------------------------------------------------\n",
            "Epoch 7  | Loss : 0.4949 | Accuracy: 79.1900\n",
            "----------------------------------------------------\n",
            "Epoch 8  | Loss : 0.4952 | Accuracy: 79.2533\n",
            "----------------------------------------------------\n",
            "Epoch 9  | Loss : 0.4982 | Accuracy: 79.1233\n",
            "----------------------------------------------------\n",
            "Epoch 10  | Loss : 0.4891 | Accuracy: 79.6583\n",
            "----------------------------------------------------\n",
            "Epoch 11  | Loss : 0.4884 | Accuracy: 79.4733\n",
            "----------------------------------------------------\n",
            "Epoch 12  | Loss : 0.4921 | Accuracy: 79.3167\n",
            "----------------------------------------------------\n",
            "Epoch 13  | Loss : 0.4905 | Accuracy: 79.2533\n",
            "----------------------------------------------------\n",
            "Epoch 14  | Loss : 0.4837 | Accuracy: 79.7533\n",
            "----------------------------------------------------\n",
            "Epoch 15  | Loss : 0.4884 | Accuracy: 79.5900\n",
            "----------------------------------------------------\n",
            "Epoch 16  | Loss : 0.4873 | Accuracy: 79.4017\n",
            "----------------------------------------------------\n",
            "Epoch 17  | Loss : 0.4848 | Accuracy: 79.4833\n",
            "----------------------------------------------------\n",
            "Epoch 18  | Loss : 0.4801 | Accuracy: 79.9450\n",
            "----------------------------------------------------\n",
            "Epoch 19  | Loss : 0.4845 | Accuracy: 79.5383\n",
            "----------------------------------------------------\n",
            "Epoch 20  | Loss : 0.4802 | Accuracy: 79.7950\n",
            "----------------------------------------------------\n",
            "Epoch 21  | Loss : 0.4784 | Accuracy: 79.8867\n",
            "----------------------------------------------------\n",
            "Epoch 22  | Loss : 0.4783 | Accuracy: 79.8600\n",
            "----------------------------------------------------\n",
            "Epoch 23  | Loss : 0.4738 | Accuracy: 80.0483\n",
            "----------------------------------------------------\n",
            "Epoch 24  | Loss : 0.4761 | Accuracy: 79.8700\n",
            "----------------------------------------------------\n",
            "Epoch 25  | Loss : 0.4699 | Accuracy: 80.2317\n",
            "----------------------------------------------------\n",
            "Epoch 26  | Loss : 0.4718 | Accuracy: 80.0633\n",
            "----------------------------------------------------\n",
            "Epoch 27  | Loss : 0.4682 | Accuracy: 80.1917\n",
            "----------------------------------------------------\n",
            "Epoch 28  | Loss : 0.4682 | Accuracy: 80.1100\n",
            "----------------------------------------------------\n",
            "Epoch 29  | Loss : 0.4674 | Accuracy: 80.0867\n",
            "----------------------------------------------------\n",
            "Epoch 30  | Loss : 0.4725 | Accuracy: 79.8567\n",
            "----------------------------------------------------\n",
            "Epoch 31  | Loss : 0.4670 | Accuracy: 80.1350\n",
            "----------------------------------------------------\n",
            "Epoch 32  | Loss : 0.4650 | Accuracy: 80.2567\n",
            "----------------------------------------------------\n",
            "Epoch 33  | Loss : 0.4659 | Accuracy: 80.0950\n",
            "----------------------------------------------------\n",
            "Epoch 34  | Loss : 0.4628 | Accuracy: 80.5267\n",
            "----------------------------------------------------\n",
            "Epoch 35  | Loss : 0.4672 | Accuracy: 79.7983\n",
            "----------------------------------------------------\n",
            "Epoch 36  | Loss : 0.4565 | Accuracy: 80.6317\n",
            "----------------------------------------------------\n",
            "Epoch 37  | Loss : 0.4608 | Accuracy: 80.5517\n",
            "----------------------------------------------------\n",
            "Epoch 38  | Loss : 0.4613 | Accuracy: 80.3833\n",
            "----------------------------------------------------\n",
            "Epoch 39  | Loss : 0.4560 | Accuracy: 80.5217\n",
            "----------------------------------------------------\n",
            "Epoch 40  | Loss : 0.4565 | Accuracy: 80.5183\n",
            "----------------------------------------------------\n"
          ]
        }
      ]
    },
    {
      "cell_type": "code",
      "source": [
        "correct = 0\n",
        "total = 0\n",
        "with torch.no_grad():\n",
        "    for data in testloader:\n",
        "        images, labels = data\n",
        "        outputs = model2(images)\n",
        "        _, predicted = torch.max(outputs.data, 1)\n",
        "        total += labels.size(0)\n",
        "        correct += (predicted == labels).sum().item()\n",
        "\n",
        "print('Accuracy of the network on the test images: %d %%' % (100 * correct / total))"
      ],
      "metadata": {
        "colab": {
          "base_uri": "https://localhost:8080/"
        },
        "id": "smuERWdvuI_d",
        "outputId": "f34994fb-b6f6-4b12-ee9c-6254c840f0cb"
      },
      "execution_count": null,
      "outputs": [
        {
          "output_type": "stream",
          "name": "stdout",
          "text": [
            "Accuracy of the network on the test images: 77 %\n"
          ]
        }
      ]
    },
    {
      "cell_type": "code",
      "source": [
        "import matplotlib.pyplot as plt\n",
        "weights_1 = model2.fc1.weight.data.flatten()\n",
        "weights_2 = model2.output.weight.data.flatten()\n",
        "plt.hist(weights_1)"
      ],
      "metadata": {
        "colab": {
          "base_uri": "https://localhost:8080/",
          "height": 367
        },
        "id": "hXvL5qFUFzij",
        "outputId": "bdd30838-3dd0-4c9e-e2e0-542697c6863e"
      },
      "execution_count": null,
      "outputs": [
        {
          "output_type": "execute_result",
          "data": {
            "text/plain": [
              "(array([2.0000e+00, 1.8000e+01, 1.4400e+02, 1.2960e+03, 8.3430e+03,\n",
              "        1.8831e+04, 7.7650e+03, 1.1220e+03, 1.0200e+02, 9.0000e+00]),\n",
              " array([-0.42712355, -0.34929103, -0.27145848, -0.19362596, -0.11579342,\n",
              "        -0.03796089,  0.03987164,  0.11770418,  0.1955367 ,  0.27336925,\n",
              "         0.35120177], dtype=float32),\n",
              " <a list of 10 Patch objects>)"
            ]
          },
          "metadata": {},
          "execution_count": 25
        },
        {
          "output_type": "display_data",
          "data": {
            "text/plain": [
              "<Figure size 432x288 with 1 Axes>"
            ],
            "image/png": "[encoded data removed]"
          },
          "metadata": {
            "needs_background": "light"
          }
        }
      ]
    },
    {
      "cell_type": "code",
      "source": [
        "plt.hist(weights_2)"
      ],
      "metadata": {
        "colab": {
          "base_uri": "https://localhost:8080/",
          "height": 350
        },
        "id": "r8KHE-KWGBZn",
        "outputId": "bdb9d642-112d-4158-8b38-13327aa67d12"
      },
      "execution_count": null,
      "outputs": [
        {
          "output_type": "execute_result",
          "data": {
            "text/plain": [
              "(array([  2.,   4.,  34.,  47.,  73., 104., 128.,  72.,  13.,   3.]),\n",
              " array([-1.0753661 , -0.8942717 , -0.7131772 , -0.53208274, -0.35098827,\n",
              "        -0.1698938 ,  0.01120067,  0.19229513,  0.3733896 ,  0.55448407,\n",
              "         0.73557854], dtype=float32),\n",
              " <a list of 10 Patch objects>)"
            ]
          },
          "metadata": {},
          "execution_count": 26
        },
        {
          "output_type": "display_data",
          "data": {
            "text/plain": [
              "<Figure size 432x288 with 1 Axes>"
            ],
            "image/png": "[encoded data removed]"
          },
          "metadata": {
            "needs_background": "light"
          }
        }
      ]
    }
  ]
}